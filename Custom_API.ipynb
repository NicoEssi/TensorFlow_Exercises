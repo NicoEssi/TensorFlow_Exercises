{
  "nbformat": 4,
  "nbformat_minor": 0,
  "metadata": {
    "colab": {
      "name": "Custom_API.ipynb",
      "provenance": []
    },
    "kernelspec": {
      "name": "python3",
      "display_name": "Python 3"
    }
  },
  "cells": [
    {
      "cell_type": "code",
      "metadata": {
        "id": "Ly8l-xsS8Ulh",
        "colab_type": "code",
        "colab": {}
      },
      "source": [
        "!pip install tensorflow==2.0.0\n",
        "\n",
        "import tensorflow as tf\n",
        "print(tf.__version__)"
      ],
      "execution_count": 0,
      "outputs": []
    },
    {
      "cell_type": "markdown",
      "metadata": {
        "id": "0doI7HzDAxgh",
        "colab_type": "text"
      },
      "source": [
        "# Custom Loss Function"
      ]
    },
    {
      "cell_type": "code",
      "metadata": {
        "id": "mEjdt3ui8nEq",
        "colab_type": "code",
        "colab": {}
      },
      "source": [
        "def create_huber(threshold = 1.0):\n",
        "  def huber_fn(y_true, y_pred):\n",
        "    error = y_true - y_pred\n",
        "    is_small_error = tf.abs(error) < 1\n",
        "    squared_loss = tf.square(error) / 2\n",
        "    linear_loss = tf.abs(error) - 0.5\n",
        "    return tf.where(is_small_error, squared_loss, linear_loss)\n",
        "  return huber_fn\n",
        "\n",
        "# model.compile(loss=create_huber(2.0), optimizer=\"nadam\")"
      ],
      "execution_count": 0,
      "outputs": []
    },
    {
      "cell_type": "code",
      "metadata": {
        "id": "hPWkXiAWEDRr",
        "colab_type": "code",
        "colab": {}
      },
      "source": [
        "from tensorflow import keras\n",
        "\n",
        "class HuberLoss(keras.losses.Loss):\n",
        "  def __init__(self, threshold=1.0, **kwargs):\n",
        "      self.threshold = threshold\n",
        "      super().__init__(**kwargs)\n",
        "  def call(self, y_true, y_pred):\n",
        "      error = y_true - y_pred\n",
        "      is_small_error = tf.abs(error) < self.threshold\n",
        "      squared_loss = tf.square(error) / 2\n",
        "      linear_loss  = self.threshold * tf.abs(error) - self.threshold**2 / 2\n",
        "      return tf.where(is_small_error, squared_loss, linear_loss)\n",
        "  def get_config(self):\n",
        "      base_config = super().get_config()\n",
        "      return {**base_config, \"threshold\": self.threshold}"
      ],
      "execution_count": 0,
      "outputs": []
    },
    {
      "cell_type": "markdown",
      "metadata": {
        "id": "8NSLYzjQFXBQ",
        "colab_type": "text"
      },
      "source": [
        "# Other Custom Implementations"
      ]
    },
    {
      "cell_type": "code",
      "metadata": {
        "id": "M42IlTHUEVha",
        "colab_type": "code",
        "colab": {}
      },
      "source": [
        "def my_softplus(z): # return value is just tf.nn.softplus(z)\n",
        "    return tf.math.log(tf.exp(z) + 1.0)\n",
        "\n",
        "def my_glorot_initializer(shape, dtype=tf.float32):\n",
        "    stddev = tf.sqrt(2. / (shape[0] + shape[1]))\n",
        "    return tf.random.normal(shape, stddev=stddev, dtype=dtype)\n",
        "\n",
        "def my_l1_regularizer(weights):\n",
        "    return tf.reduce_sum(tf.abs(0.01 * weights))\n",
        "\n",
        "def my_positive_weights(weights): # return value is just tf.nn.relu(weights)\n",
        "    return tf.where(weights < 0., tf.zeros_like(weights), weights)"
      ],
      "execution_count": 0,
      "outputs": []
    },
    {
      "cell_type": "code",
      "metadata": {
        "id": "z-DzJz-DFZsO",
        "colab_type": "code",
        "colab": {}
      },
      "source": [
        "layer = keras.layers.Dense(30, activation=my_softplus,\n",
        "                           kernel_initializer=my_glorot_initializer,\n",
        "                           kernel_regularizer=my_l1_regularizer,\n",
        "                           kernel_constraint=my_positive_weights)"
      ],
      "execution_count": 0,
      "outputs": []
    },
    {
      "cell_type": "markdown",
      "metadata": {
        "id": "Yteh14kTGZn-",
        "colab_type": "text"
      },
      "source": [
        "# Custom Layers"
      ]
    },
    {
      "cell_type": "code",
      "metadata": {
        "id": "YXHag7QoFbex",
        "colab_type": "code",
        "colab": {}
      },
      "source": [
        "exponential_layer = keras.layers.Lambda(lambda x: tf.exp(x))"
      ],
      "execution_count": 0,
      "outputs": []
    },
    {
      "cell_type": "code",
      "metadata": {
        "id": "l6rpqkezGba2",
        "colab_type": "code",
        "colab": {}
      },
      "source": [
        ""
      ],
      "execution_count": 0,
      "outputs": []
    }
  ]
}