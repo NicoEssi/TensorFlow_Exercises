{
  "nbformat": 4,
  "nbformat_minor": 0,
  "metadata": {
    "colab": {
      "name": "Convolutional_Network_with_ImageDataGenerator.ipynb",
      "version": "0.3.2",
      "provenance": []
    },
    "kernelspec": {
      "name": "python3",
      "display_name": "Python 3"
    }
  },
  "cells": [
    {
      "cell_type": "markdown",
      "metadata": {
        "id": "KZVCWpLVN2YL",
        "colab_type": "text"
      },
      "source": [
        "# Setting up and importing data"
      ]
    },
    {
      "cell_type": "code",
      "metadata": {
        "id": "f-u3u8B3NrRT",
        "colab_type": "code",
        "colab": {
          "base_uri": "https://localhost:8080/",
          "height": 239
        },
        "outputId": "2f61195c-f0b2-4b91-be9e-7b5dd7ede543"
      },
      "source": [
        "import tensorflow as tf\n",
        "import os\n",
        "import zipfile\n",
        "\n",
        "DESIRED_ACCURACY = 0.999\n",
        "\n",
        "!wget --no-check-certificate \\\n",
        "    \"https://storage.googleapis.com/laurencemoroney-blog.appspot.com/happy-or-sad.zip\" \\\n",
        "    -O \"/tmp/happy-or-sad.zip\"\n",
        "\n",
        "zip_ref = zipfile.ZipFile(\"/tmp/happy-or-sad.zip\", 'r')\n",
        "zip_ref.extractall(\"/tmp/h-or-s\")\n",
        "zip_ref.close()"
      ],
      "execution_count": 1,
      "outputs": [
        {
          "output_type": "stream",
          "text": [
            "--2019-05-25 23:01:57--  https://storage.googleapis.com/laurencemoroney-blog.appspot.com/happy-or-sad.zip\n",
            "Resolving storage.googleapis.com (storage.googleapis.com)... 74.125.141.128, 2607:f8b0:400c:c06::80\n",
            "Connecting to storage.googleapis.com (storage.googleapis.com)|74.125.141.128|:443... connected.\n",
            "HTTP request sent, awaiting response... 200 OK\n",
            "Length: 2670333 (2.5M) [application/zip]\n",
            "Saving to: ‘/tmp/happy-or-sad.zip’\n",
            "\n",
            "\r/tmp/happy-or-sad.z   0%[                    ]       0  --.-KB/s               \r/tmp/happy-or-sad.z 100%[===================>]   2.55M  --.-KB/s    in 0.02s   \n",
            "\n",
            "2019-05-25 23:01:57 (139 MB/s) - ‘/tmp/happy-or-sad.zip’ saved [2670333/2670333]\n",
            "\n"
          ],
          "name": "stdout"
        }
      ]
    },
    {
      "cell_type": "markdown",
      "metadata": {
        "id": "1N1CgciLN3W0",
        "colab_type": "text"
      },
      "source": [
        "#Implementing a Callback"
      ]
    },
    {
      "cell_type": "code",
      "metadata": {
        "id": "OPTmYuIFN4G-",
        "colab_type": "code",
        "colab": {}
      },
      "source": [
        "class myCallback(tf.keras.callbacks.Callback):\n",
        "  def on_epoch_end(self, epoch, logs={}):\n",
        "    if(logs.get('acc') > 0.999):\n",
        "      print(\"\\nReached 99.9% accuracy!\")\n",
        "      self.model.stop_training = True\n",
        "\n",
        "callbacks = myCallback()"
      ],
      "execution_count": 0,
      "outputs": []
    },
    {
      "cell_type": "markdown",
      "metadata": {
        "id": "_17soJc9N4aM",
        "colab_type": "text"
      },
      "source": [
        "#Setting up the preprocessing ImageDataGenerator"
      ]
    },
    {
      "cell_type": "code",
      "metadata": {
        "id": "hLBYRaeCOYkV",
        "colab_type": "code",
        "colab": {
          "base_uri": "https://localhost:8080/",
          "height": 35
        },
        "outputId": "f4b51838-4ab8-401d-c3e3-228e1545a53c"
      },
      "source": [
        "from tensorflow.keras.preprocessing.image import ImageDataGenerator\n",
        "\n",
        "train_datagen = ImageDataGenerator(rescale=1/255)\n",
        "\n",
        "train_generator = train_datagen.flow_from_directory(\n",
        "        \"/tmp/h-or-s\",  \n",
        "        target_size=(150, 150), \n",
        "        batch_size=10,\n",
        "        class_mode='binary')"
      ],
      "execution_count": 3,
      "outputs": [
        {
          "output_type": "stream",
          "text": [
            "Found 80 images belonging to 2 classes.\n"
          ],
          "name": "stdout"
        }
      ]
    },
    {
      "cell_type": "markdown",
      "metadata": {
        "id": "ooveGR9lOVW3",
        "colab_type": "text"
      },
      "source": [
        "#Define and Compile the Model"
      ]
    },
    {
      "cell_type": "code",
      "metadata": {
        "id": "8G1BAuFVOgB_",
        "colab_type": "code",
        "colab": {
          "base_uri": "https://localhost:8080/",
          "height": 92
        },
        "outputId": "04411ac2-93e6-4e31-d07b-988399f49124"
      },
      "source": [
        "# This Code Block should Define and Compile the Model\n",
        "model = tf.keras.models.Sequential([\n",
        "    tf.keras.layers.Conv2D(16, (3,3), activation='relu', input_shape=(150, 150, 3)),\n",
        "    tf.keras.layers.MaxPooling2D(2,2),\n",
        "    tf.keras.layers.Conv2D(32, (3,3), activation='relu'),\n",
        "    tf.keras.layers.MaxPooling2D(2,2),\n",
        "    tf.keras.layers.Conv2D(32, (3,3), activation='relu'),\n",
        "    tf.keras.layers.MaxPooling2D(2,2),\n",
        "    tf.keras.layers.Flatten(),\n",
        "    tf.keras.layers.Dense(128, activation = 'relu'),\n",
        "    tf.keras.layers.Dense(1, activation = 'sigmoid')\n",
        "])\n",
        "\n",
        "from tensorflow.keras.optimizers import RMSprop\n",
        "\n",
        "model.compile(optimizer = RMSprop(lr = 0.001),\n",
        "             loss = 'binary_crossentropy',\n",
        "             metrics = ['acc'])"
      ],
      "execution_count": 4,
      "outputs": [
        {
          "output_type": "stream",
          "text": [
            "WARNING:tensorflow:From /usr/local/lib/python3.6/dist-packages/tensorflow/python/ops/resource_variable_ops.py:435: colocate_with (from tensorflow.python.framework.ops) is deprecated and will be removed in a future version.\n",
            "Instructions for updating:\n",
            "Colocations handled automatically by placer.\n"
          ],
          "name": "stdout"
        }
      ]
    },
    {
      "cell_type": "markdown",
      "metadata": {
        "id": "WLGltOeqOiO3",
        "colab_type": "text"
      },
      "source": [
        "#Fit the Model"
      ]
    },
    {
      "cell_type": "code",
      "metadata": {
        "id": "iXH5vh2fOngC",
        "colab_type": "code",
        "colab": {
          "base_uri": "https://localhost:8080/",
          "height": 643
        },
        "outputId": "9ee2a786-a00e-492f-f80f-0beba0a60e41"
      },
      "source": [
        "history = model.fit_generator(\n",
        "      train_generator,\n",
        "      steps_per_epoch=2,  \n",
        "      epochs=15,\n",
        "      verbose=1,\n",
        "      callbacks=[callbacks])"
      ],
      "execution_count": 5,
      "outputs": [
        {
          "output_type": "stream",
          "text": [
            "WARNING:tensorflow:From /usr/local/lib/python3.6/dist-packages/tensorflow/python/ops/math_ops.py:3066: to_int32 (from tensorflow.python.ops.math_ops) is deprecated and will be removed in a future version.\n",
            "Instructions for updating:\n",
            "Use tf.cast instead.\n",
            "Epoch 1/15\n",
            "8/8 [==============================] - 3s 320ms/step - loss: 1.0559 - acc: 0.4625\n",
            "Epoch 2/15\n",
            "8/8 [==============================] - 2s 273ms/step - loss: 0.7112 - acc: 0.6125\n",
            "Epoch 3/15\n",
            "8/8 [==============================] - 2s 258ms/step - loss: 0.3965 - acc: 0.8500\n",
            "Epoch 4/15\n",
            "8/8 [==============================] - 2s 266ms/step - loss: 0.3592 - acc: 0.8500\n",
            "Epoch 5/15\n",
            "8/8 [==============================] - 2s 256ms/step - loss: 0.2467 - acc: 0.9125\n",
            "Epoch 6/15\n",
            "8/8 [==============================] - 2s 270ms/step - loss: 0.2144 - acc: 0.9000\n",
            "Epoch 7/15\n",
            "8/8 [==============================] - 2s 252ms/step - loss: 0.1902 - acc: 0.9000\n",
            "Epoch 8/15\n",
            "8/8 [==============================] - 2s 273ms/step - loss: 0.1018 - acc: 0.9750\n",
            "Epoch 9/15\n",
            "8/8 [==============================] - 2s 251ms/step - loss: 0.1058 - acc: 0.9750\n",
            "Epoch 10/15\n",
            "8/8 [==============================] - 2s 269ms/step - loss: 0.0483 - acc: 0.9875\n",
            "Epoch 11/15\n",
            "8/8 [==============================] - 2s 261ms/step - loss: 0.1327 - acc: 0.9250\n",
            "Epoch 12/15\n",
            "8/8 [==============================] - 2s 274ms/step - loss: 0.0374 - acc: 0.9875\n",
            "Epoch 13/15\n",
            "8/8 [==============================] - 2s 258ms/step - loss: 0.0523 - acc: 0.9625\n",
            "Epoch 14/15\n",
            "7/8 [=========================>....] - ETA: 0s - loss: 0.0166 - acc: 1.0000\n",
            "Reached 99.9% accuracy!\n",
            "8/8 [==============================] - 2s 261ms/step - loss: 0.0153 - acc: 1.0000\n"
          ],
          "name": "stdout"
        }
      ]
    },
    {
      "cell_type": "code",
      "metadata": {
        "id": "s6uzdImkOvee",
        "colab_type": "code",
        "colab": {}
      },
      "source": [
        ""
      ],
      "execution_count": 0,
      "outputs": []
    }
  ]
}
